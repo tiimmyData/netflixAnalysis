{
 "cells": [
  {
   "cell_type": "markdown",
   "metadata": {},
   "source": [
    "Data Source - [Netflix Data](https://www.kaggle.com/datasets/shivamb/netflix-shows)\n",
    "\n",
    "The purpose of this analysis is to find the following:\n",
    "1. Data Cleaning & Prep\n",
    "- Handle missing values (e.g., director, cast, country).\n",
    "- Convert date_added from string to datetime format.\n",
    "- Extract useful features (e.g., month/year added, duration in minutes).\n",
    "\n",
    "2. Exploratory Data Analysis (EDA)\n",
    "- Content Distribution: Movies vs. TV shows over time.\n",
    "- Release Trends: When were most shows/movies added to Netflix?\n",
    "- Country Analysis: Which countries produce the most content?\n",
    "- Ratings Analysis: What’s the most common rating (TV-MA, PG-13, etc.)?\n",
    "\n",
    "3. Visualizations (Use Matplotlib/Seaborn or Plotly)\n",
    "- 📈 Bar Chart: Number of Movies vs. TV Shows by year.\n",
    "- 🌍 Map Visualization: Countries producing the most content (using geopandas or Plotly).\n",
    "- 📅 Time Series Plot: Monthly additions of content over the years.\n",
    "- 📊 Pie Chart: Distribution of ratings (TV-MA, PG-13, etc.).\n",
    "\n",
    "4. Bonus (If You Want More Challenge)\n",
    "- Text Analysis: Analyze the description column for common keywords.\n",
    "- Recommendation System (Basic): Suggest similar content based on genre/director."
   ]
  },
  {
   "cell_type": "code",
   "execution_count": null,
   "metadata": {},
   "outputs": [],
   "source": [
    "# Packages\n",
    "import pandas as pd\n",
    "import numpy as np\n",
    "import matplotlib.pyplot as plt\n",
    "import seaborn as sns\n",
    "print('Happy Coding 😊')"
   ]
  },
  {
   "cell_type": "code",
   "execution_count": null,
   "metadata": {},
   "outputs": [],
   "source": [
    "data = pd.read_csv('./netflix_titles.csv') # importing the dataset"
   ]
  },
  {
   "cell_type": "markdown",
   "metadata": {},
   "source": [
    "### Data Cleaning"
   ]
  },
  {
   "cell_type": "code",
   "execution_count": null,
   "metadata": {},
   "outputs": [],
   "source": [
    "data.head() # Displaying the first 5 rows of the dataset"
   ]
  },
  {
   "cell_type": "code",
   "execution_count": null,
   "metadata": {},
   "outputs": [],
   "source": [
    "data.sample(15) # Displaying 15 random rows of the dataset"
   ]
  },
  {
   "cell_type": "code",
   "execution_count": null,
   "metadata": {},
   "outputs": [],
   "source": [
    "data.isnull().sum() # checking for null values"
   ]
  },
  {
   "cell_type": "code",
   "execution_count": null,
   "metadata": {},
   "outputs": [],
   "source": [
    "data[(data['director'].isnull()) & (data['type'] != 'TV Show')] # checking for null values in the director column"
   ]
  },
  {
   "cell_type": "code",
   "execution_count": null,
   "metadata": {},
   "outputs": [],
   "source": [
    "print(data['type'].unique()) # Displaying unique values in the type column"
   ]
  },
  {
   "cell_type": "code",
   "execution_count": null,
   "metadata": {},
   "outputs": [],
   "source": [
    "data.loc[data['duration'].isnull(), 'rating'] = 'TV-MA' # The rating of the TV shows with missing duration is set to TV-MA"
   ]
  },
  {
   "cell_type": "code",
   "execution_count": null,
   "metadata": {},
   "outputs": [],
   "source": [
    "data.loc[data['title'] == 'Louis C.K. 2017', 'duration'] = '74 min' # The duration of the movie is set to 74 min\n",
    "data.loc[data['title'] == 'Louis C.K.: Hilarious', 'duration'] = '84 min' # The duration of the movie is set to 84 min\n",
    "data.loc[data['title'] == 'Louis C.K.: Live at the Comedy Store', 'duration'] = '66 min' # The duration of the movie is set to 66 min"
   ]
  },
  {
   "cell_type": "code",
   "execution_count": null,
   "metadata": {},
   "outputs": [],
   "source": [
    "data['director'] = data['director'].fillna('Unknown') # filling the null values with 'Unknown'\n",
    "data['country'] = data['country'].fillna('Unknown') # filling the null values with 'Unknown'\n",
    "data['cast'] = data['cast'].fillna('Unknown') # filling the null values with 'Unknown'"
   ]
  },
  {
   "cell_type": "code",
   "execution_count": null,
   "metadata": {},
   "outputs": [],
   "source": [
    "data['rating'] = data['rating'].fillna('Not Rated') # filling the null values with '"
   ]
  },
  {
   "cell_type": "code",
   "execution_count": null,
   "metadata": {},
   "outputs": [],
   "source": [
    "data[data['date_added'].isnull()] # checking for null values in the date_added column"
   ]
  },
  {
   "cell_type": "code",
   "execution_count": null,
   "metadata": {},
   "outputs": [],
   "source": [
    "data['date_added'] = pd.to_datetime(data['date_added'].str.strip(), format=\"%B %d, %Y\", errors='coerce') # converting the date_added column to datetime format"
   ]
  },
  {
   "cell_type": "code",
   "execution_count": null,
   "metadata": {},
   "outputs": [],
   "source": [
    "data['date_added'].dtype # checking the data type of the date_added column"
   ]
  },
  {
   "cell_type": "code",
   "execution_count": null,
   "metadata": {},
   "outputs": [],
   "source": [
    "data.isnull().sum() # checking for null values"
   ]
  },
  {
   "cell_type": "markdown",
   "metadata": {},
   "source": [
    "## Exploratory Data Analysis (EDA)"
   ]
  },
  {
   "cell_type": "code",
   "execution_count": null,
   "metadata": {},
   "outputs": [],
   "source": []
  }
 ],
 "metadata": {
  "kernelspec": {
   "display_name": "base",
   "language": "python",
   "name": "python3"
  },
  "language_info": {
   "codemirror_mode": {
    "name": "ipython",
    "version": 3
   },
   "file_extension": ".py",
   "mimetype": "text/x-python",
   "name": "python",
   "nbconvert_exporter": "python",
   "pygments_lexer": "ipython3",
   "version": "3.12.7"
  }
 },
 "nbformat": 4,
 "nbformat_minor": 2
}
