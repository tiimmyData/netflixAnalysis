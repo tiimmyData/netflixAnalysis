{
 "cells": [
  {
   "cell_type": "markdown",
   "metadata": {},
   "source": [
    "Data Source - [Netflix Data](https://www.kaggle.com/datasets/shivamb/netflix-shows)\n",
    "\n",
    "The purpose of this analysis is to find the following:\n",
    "1. Data Cleaning & Prep\n",
    "- Handle missing values (e.g., director, cast, country).\n",
    "- Convert date_added from string to datetime format.\n",
    "- Extract useful features (e.g., month/year added, duration in minutes).\n",
    "\n",
    "2. Exploratory Data Analysis (EDA)\n",
    "- Content Distribution: Movies vs. TV shows over time.\n",
    "- Release Trends: When were most shows/movies added to Netflix?\n",
    "- Country Analysis: Which countries produce the most content?\n",
    "- Ratings Analysis: What’s the most common rating (TV-MA, PG-13, etc.)?\n",
    "\n",
    "3. Visualizations (Use Matplotlib/Seaborn or Plotly)\n",
    "- 📈 Bar Chart: Number of Movies vs. TV Shows by year.\n",
    "- 🌍 Map Visualization: Countries producing the most content (using geopandas or Plotly).\n",
    "- 📅 Time Series Plot: Monthly additions of content over the years.\n",
    "- 📊 Pie Chart: Distribution of ratings (TV-MA, PG-13, etc.).\n",
    "\n",
    "4. More Challenge\n",
    "- Recommendation System (Basic): Suggest similar content based on genre."
   ]
  },
  {
   "cell_type": "code",
   "execution_count": null,
   "metadata": {},
   "outputs": [],
   "source": [
    "# Packages\n",
    "import pandas as pd\n",
    "import numpy as np\n",
    "import matplotlib.pyplot as plt\n",
    "import seaborn as sns\n",
    "print('Happy Coding 😊')"
   ]
  },
  {
   "cell_type": "code",
   "execution_count": null,
   "metadata": {},
   "outputs": [],
   "source": [
    "data = pd.read_csv('./netflix_titles.csv') # importing the dataset"
   ]
  },
  {
   "cell_type": "markdown",
   "metadata": {},
   "source": [
    "### Data Cleaning"
   ]
  },
  {
   "cell_type": "code",
   "execution_count": null,
   "metadata": {},
   "outputs": [],
   "source": [
    "data.head() # Displaying the first 5 rows of the dataset"
   ]
  },
  {
   "cell_type": "code",
   "execution_count": null,
   "metadata": {},
   "outputs": [],
   "source": [
    "data.sample(15) # Displaying 15 random rows of the dataset"
   ]
  },
  {
   "cell_type": "code",
   "execution_count": null,
   "metadata": {},
   "outputs": [],
   "source": [
    "data.isnull().sum() # checking for null values"
   ]
  },
  {
   "cell_type": "code",
   "execution_count": null,
   "metadata": {},
   "outputs": [],
   "source": [
    "data[(data['director'].isnull()) & (data['type'] != 'TV Show')] # checking for null values in the director column"
   ]
  },
  {
   "cell_type": "code",
   "execution_count": null,
   "metadata": {},
   "outputs": [],
   "source": [
    "print(data['type'].unique()) # Displaying unique values in the type column"
   ]
  },
  {
   "cell_type": "code",
   "execution_count": null,
   "metadata": {},
   "outputs": [],
   "source": [
    "data.loc[data['duration'].isnull(), 'rating'] = 'TV-MA' # The rating of the TV shows with missing duration is set to TV-MA"
   ]
  },
  {
   "cell_type": "code",
   "execution_count": null,
   "metadata": {},
   "outputs": [],
   "source": [
    "data.loc[data['title'] == 'Louis C.K. 2017', 'duration'] = '74 min' # The duration of the movie is set to 74 min\n",
    "data.loc[data['title'] == 'Louis C.K.: Hilarious', 'duration'] = '84 min' # The duration of the movie is set to 84 min\n",
    "data.loc[data['title'] == 'Louis C.K.: Live at the Comedy Store', 'duration'] = '66 min' # The duration of the movie is set to 66 min"
   ]
  },
  {
   "cell_type": "code",
   "execution_count": null,
   "metadata": {},
   "outputs": [],
   "source": [
    "data['director'] = data['director'].fillna('Unknown') # filling the null values with 'Unknown'\n",
    "data['country'] = data['country'].fillna('Unknown') # filling the null values with 'Unknown'\n",
    "data['cast'] = data['cast'].fillna('Unknown') # filling the null values with 'Unknown'"
   ]
  },
  {
   "cell_type": "code",
   "execution_count": null,
   "metadata": {},
   "outputs": [],
   "source": [
    "data['rating'] = data['rating'].fillna('Not Rated') # filling the null values with '"
   ]
  },
  {
   "cell_type": "code",
   "execution_count": null,
   "metadata": {},
   "outputs": [],
   "source": [
    "data[data['date_added'].isnull()] # checking for null values in the date_added column"
   ]
  },
  {
   "cell_type": "code",
   "execution_count": null,
   "metadata": {},
   "outputs": [],
   "source": [
    "data['date_added'] = pd.to_datetime(data['date_added'].str.strip(), format=\"%B %d, %Y\", errors='coerce') # converting the date_added column to datetime format"
   ]
  },
  {
   "cell_type": "code",
   "execution_count": null,
   "metadata": {},
   "outputs": [],
   "source": [
    "data['date_added'].dtype # checking the data type of the date_added column"
   ]
  },
  {
   "cell_type": "code",
   "execution_count": null,
   "metadata": {},
   "outputs": [],
   "source": [
    "data.isnull().sum() # checking for null values"
   ]
  },
  {
   "cell_type": "code",
   "execution_count": null,
   "metadata": {},
   "outputs": [],
   "source": [
    "# data.to_csv('netflix_file.csv', index=False)"
   ]
  },
  {
   "cell_type": "markdown",
   "metadata": {},
   "source": [
    "## Exploratory Data Analysis (EDA)"
   ]
  },
  {
   "cell_type": "markdown",
   "metadata": {},
   "source": [
    "##### Movies vs. TV shows over time."
   ]
  },
  {
   "cell_type": "code",
   "execution_count": null,
   "metadata": {},
   "outputs": [],
   "source": [
    "data[['date_added', 'type']] # checking for null values in the date_added column"
   ]
  },
  {
   "cell_type": "code",
   "execution_count": null,
   "metadata": {},
   "outputs": [],
   "source": [
    "# Extract the year from 'date_added'\n",
    "data['year_added'] = data['date_added'].dt.year\n",
    "\n",
    "# Group by 'year_added' and 'type' to count the number of entries\n",
    "content_trend = data.groupby(['year_added', 'type']).size().reset_index(name='count')\n",
    "\n",
    "# Create a line plot\n",
    "plt.figure(figsize=(12, 6))\n",
    "sns.lineplot(data=content_trend, x='year_added', y='count', hue='type', marker='o', palette='crest')\n",
    "\n",
    "# Customize the plot\n",
    "plt.title('Trend of Movies and TV Shows Added to Netflix Over the Years', fontsize=16)\n",
    "plt.xlabel('Year Added', fontsize=12)\n",
    "plt.ylabel('Number of Titles', fontsize=12)\n",
    "plt.xticks(rotation=45)\n",
    "plt.legend(loc='upper left')\n",
    "plt.grid(axis='y', linestyle='--', alpha=0.3)\n",
    "\n",
    "# Show the plot\n",
    "plt.tight_layout()\n",
    "plt.show()"
   ]
  },
  {
   "cell_type": "markdown",
   "metadata": {},
   "source": [
    "##### When were most shows/movies added to Netflix?"
   ]
  },
  {
   "cell_type": "code",
   "execution_count": null,
   "metadata": {},
   "outputs": [],
   "source": [
    "content_trend = data.groupby(['year_added', 'type']).size().reset_index(name='count')"
   ]
  },
  {
   "cell_type": "code",
   "execution_count": null,
   "metadata": {},
   "outputs": [],
   "source": [
    "content_trend"
   ]
  },
  {
   "cell_type": "code",
   "execution_count": null,
   "metadata": {},
   "outputs": [],
   "source": [
    "# Extract the year from 'date_added'\n",
    "data['year_added'] = data['date_added'].dt.year\n",
    "# Find the year with the most movies\n",
    "most_movies_year = data[data['type'] == 'Movie']['year_added'].value_counts().idxmax()\n",
    "\n",
    "# Find the year with the most TV shows\n",
    "most_shows_year = data[data['type'] == 'TV Show']['year_added'].value_counts().idxmax()\n",
    "\n",
    "print(f\"The year with the most movies added is: {most_movies_year} with {data[data['type'] == 'Movie']['year_added'].value_counts().max()} movies\")\n",
    "print(f\"The year with the most TV shows added is: {most_shows_year} with {data[data['type'] == 'TV Show']['year_added'].value_counts().max()} TV shows\")"
   ]
  },
  {
   "cell_type": "markdown",
   "metadata": {},
   "source": [
    "##### Which countries produce the most content?"
   ]
  },
  {
   "cell_type": "code",
   "execution_count": null,
   "metadata": {},
   "outputs": [],
   "source": [
    "data['country'].value_counts()"
   ]
  },
  {
   "cell_type": "code",
   "execution_count": null,
   "metadata": {},
   "outputs": [],
   "source": [
    "# Get the top 10 countries producing the most content\n",
    "top_countries = data['country'].value_counts().head(10).reset_index()\n",
    "top_countries.columns = ['country', 'count']\n",
    "\n",
    "# Create a bar chart\n",
    "plt.figure(figsize=(12, 8))\n",
    "barplot = sns.barplot(data=top_countries, x='count', y='country', palette='crest')\n",
    "\n",
    "# Add data labels to each bar\n",
    "for index, row in top_countries.iterrows():\n",
    "    plt.text(row['count'] + 1, index, str(row['count']), va = 'center', fontsize=10)\n",
    "\n",
    "# Customize the chart\n",
    "plt.title('Top 10 Countries Producing the Most Content on Netflix', fontsize=16)\n",
    "plt.xlabel('Number of Contents', fontsize=12)\n",
    "plt.ylabel('Country', fontsize=12)\n",
    "plt.grid(axis='x', linestyle='--', alpha=0.7)\n",
    "\n",
    "# Show the plot\n",
    "plt.tight_layout()\n",
    "plt.show()"
   ]
  },
  {
   "cell_type": "markdown",
   "metadata": {},
   "source": [
    "##### What’s the most common rating (TV-MA, PG-13, etc.)"
   ]
  },
  {
   "cell_type": "code",
   "execution_count": null,
   "metadata": {},
   "outputs": [],
   "source": [
    "top_ratings = data['rating'].value_counts().reset_index()\n",
    "top_ratings.columns = ['rating', 'count']\n",
    "top_ratings"
   ]
  },
  {
   "cell_type": "code",
   "execution_count": null,
   "metadata": {},
   "outputs": [],
   "source": [
    "# Get top 10 ratings and calculate 'Others'\n",
    "top_10_ratings = data['rating'].value_counts().nlargest(10)\n",
    "others_count = data['rating'].value_counts()[10:].sum()\n",
    "\n",
    "# Combine top 10 and others into a new Series\n",
    "ratings_with_others = pd.concat([top_10_ratings, pd.Series({'Others': others_count})])\n",
    "\n",
    "# Create DataFrame for plotting\n",
    "plot_data = ratings_with_others.reset_index()\n",
    "plot_data.columns = ['rating', 'count']\n",
    "\n",
    "# Create a pie chart with a larger figure size\n",
    "plt.figure(figsize=(12, 6))\n",
    "\n",
    "# Calculate percentages\n",
    "total = plot_data['count'].sum()\n",
    "percentages = (plot_data['count'] / total * 100).round(1)\n",
    "\n",
    "# Create simpler labels for the pie slices\n",
    "labels = plot_data['rating']\n",
    "\n",
    "# Create pie chart with custom colors and labels\n",
    "patches, texts, autotexts = plt.pie(plot_data['count'], \n",
    "    labels=labels,\n",
    "    colors=sns.color_palette('crest', n_colors=len(plot_data)),\n",
    "    autopct='%1.0f%%',\n",
    "    pctdistance=0.90,\n",
    "    labeldistance=1.1,\n",
    "    textprops={'fontsize': 8}\n",
    "    )\n",
    "\n",
    "# Add a legend with detailed informationz\n",
    "legend_labels = [f\"{rating} ({count:,} - {pct}%)\" \n",
    "    for rating, count, pct in zip(plot_data['rating'],plot_data['count'], percentages)]\n",
    "plt.legend(patches, legend_labels, \n",
    "    title=\"Rating Distribution\",\n",
    "    loc=\"center left\",\n",
    "    bbox_to_anchor=(1, 0, 0.5, 1))\n",
    "\n",
    "# Add title\n",
    "plt.title('Distribution of Ratings on Netflix', fontsize=16, pad=16)\n",
    "\n",
    "# Ensure the pie is circular\n",
    "plt.axis('equal')\n",
    "\n",
    "# Adjust layout to prevent legend cropping\n",
    "plt.tight_layout()\n",
    "plt.show()"
   ]
  },
  {
   "cell_type": "markdown",
   "metadata": {},
   "source": [
    "##### Number of Movies vs. TV Shows by year."
   ]
  },
  {
   "cell_type": "code",
   "execution_count": null,
   "metadata": {},
   "outputs": [],
   "source": [
    "# Create a line plot\n",
    "plt.figure(figsize=(12, 6))\n",
    "sns.barplot(data=content_trend, x='year_added', y='count', hue='type', palette='crest')\n",
    "\n",
    "# Customize the plot\n",
    "plt.title('Number of Movies and TV Shows Added to Netflix by Year', fontsize=16)\n",
    "plt.xlabel('Year Added', fontsize=12)\n",
    "plt.ylabel('Number of Titles', fontsize=12)\n",
    "# plt.xticks(rotation=45)\n",
    "plt.legend(loc='upper left')\n",
    "plt.grid(axis='y', linestyle='--', alpha=0.3)\n",
    "\n",
    "# Show the plot\n",
    "plt.tight_layout()\n",
    "plt.show()"
   ]
  },
  {
   "cell_type": "markdown",
   "metadata": {},
   "source": [
    "##### Most popular genres on Netflix"
   ]
  },
  {
   "cell_type": "code",
   "execution_count": null,
   "metadata": {},
   "outputs": [],
   "source": [
    "data"
   ]
  },
  {
   "cell_type": "code",
   "execution_count": null,
   "metadata": {},
   "outputs": [],
   "source": [
    "# Split the 'listed_in' column into individual genres and count occurrences\n",
    "genre_counts = data['listed_in'].str.split(',').explode().str.strip().value_counts()\n",
    "# Plot the top 10 genres\n",
    "plt.figure(figsize=(12, 6))\n",
    "sns.barplot(x=genre_counts.head(10).values, y=genre_counts.head(10).index, palette='crest')\n",
    "plt.title('Top 10 Most Popular Genres on Netflix', fontsize=16)\n",
    "plt.xlabel('Number of Movies', fontsize=12)\n",
    "plt.ylabel('Genres', fontsize=12)\n",
    "plt.grid(axis='x', linestyle='--', alpha=0.7)\n",
    "plt.tight_layout()\n",
    "plt.show()"
   ]
  },
  {
   "cell_type": "markdown",
   "metadata": {},
   "source": [
    "##### Movie Recommendation System"
   ]
  },
  {
   "cell_type": "code",
   "execution_count": null,
   "metadata": {},
   "outputs": [],
   "source": [
    "from fuzzywuzzy import process"
   ]
  },
  {
   "cell_type": "code",
   "execution_count": null,
   "metadata": {},
   "outputs": [],
   "source": [
    "# Step 1: Preprocess the data\n",
    "# Split the 'listed_in' column into individual genres\n",
    "data['genres'] = data['listed_in'].str.split(',').apply(lambda x: [genre.strip() for genre in x] if isinstance(x, list) else [])\n",
    "\n",
    "# Flatten the list of genres to get all unique genres\n",
    "unique_genres = set([genre for genres in data['genres'] for genre in genres])\n",
    "\n",
    "# Step 2: Function to match user input to closest genre\n",
    "def match_genre(user_input):\n",
    "    # Use fuzzy matching to find the closest genre\n",
    "    matched_genre, score = process.extractOne(user_input, unique_genres)\n",
    "    return matched_genre if score > 50 else None  # Return None if no good match is found\n",
    "\n",
    "# Step 3: Recommend movies based on the matched genre\n",
    "def recommend_movies(user_input, num_recommendations=10):\n",
    "    # Match the user's input to a genre\n",
    "    matched_genre = match_genre(user_input)\n",
    "    if not matched_genre:\n",
    "        return f\"No matching genre found for '{user_input}'. Please try again.\"\n",
    "\n",
    "    # Filter movies that belong to the matched genre\n",
    "    recommended_movies = data[data['genres'].apply(lambda genres: matched_genre in genres)]\n",
    "\n",
    "    # Return the top recommendations with title, genres, and description\n",
    "    return recommended_movies[['title', 'listed_in', 'description']].head(num_recommendations)\n",
    "\n"
   ]
  },
  {
   "cell_type": "code",
   "execution_count": null,
   "metadata": {},
   "outputs": [],
   "source": [
    "# Example usage\n",
    "user_input = input(\"What type of movie would you like to watch? (e.g., 'Action', 'Drama', 'Comedy'): \")\n",
    "recommendations = recommend_movies(user_input)\n",
    "\n",
    "# Display the recommendations\n",
    "if isinstance(recommendations, str):\n",
    "    print(recommendations)  # Print the error message if no match is found\n",
    "else:\n",
    "    # Use Pandas' Styler to display the DataFrame with better formatting\n",
    "    styled_recommendations = recommendations.style.set_properties(**{\n",
    "        'background-color': '#f9f9f9',\n",
    "        'border': '1px solid black',\n",
    "        'color': 'black',\n",
    "        'text-align': 'left'\n",
    "    }).set_table_styles([{\n",
    "        'selector': 'th',\n",
    "        'props': [('background-color', '#4CAF90'), ('color', 'white'), ('font-weight', 'bold')]\n",
    "    }])\n",
    "    display(styled_recommendations)"
   ]
  },
  {
   "cell_type": "code",
   "execution_count": null,
   "metadata": {},
   "outputs": [],
   "source": []
  }
 ],
 "metadata": {
  "kernelspec": {
   "display_name": "base",
   "language": "python",
   "name": "python3"
  },
  "language_info": {
   "codemirror_mode": {
    "name": "ipython",
    "version": 3
   },
   "file_extension": ".py",
   "mimetype": "text/x-python",
   "name": "python",
   "nbconvert_exporter": "python",
   "pygments_lexer": "ipython3",
   "version": "3.12.7"
  }
 },
 "nbformat": 4,
 "nbformat_minor": 2
}
